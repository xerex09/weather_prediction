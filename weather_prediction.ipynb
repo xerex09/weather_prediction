{
 "cells": [
  {
   "cell_type": "code",
   "execution_count": 1,
   "metadata": {},
   "outputs": [],
   "source": [
    "import pandas as pd\n",
    "import os\n",
    "import matplotlib.pyplot as plt\n",
    "from pmdarima.arima import auto_arima, ADFTest\n",
    "from statsmodels.tsa import stattools\n",
    "from statsmodels.tsa.statespace.sarimax import SARIMAX \n",
    "from sklearn.model_selection import train_test_split"
   ]
  },
  {
   "cell_type": "code",
   "execution_count": 2,
   "metadata": {},
   "outputs": [],
   "source": [
    "root_dir = os.getcwd()\n",
    "datafile = os.path.join(root_dir, 'weatherdata_final.csv')"
   ]
  },
  {
   "cell_type": "code",
   "execution_count": 3,
   "metadata": {},
   "outputs": [
    {
     "name": "stdout",
     "output_type": "stream",
     "text": [
      "<class 'pandas.core.frame.DataFrame'>\n",
      "RangeIndex: 1916800 entries, 0 to 1916799\n",
      "Data columns (total 7 columns):\n",
      " #   Column  Dtype  \n",
      "---  ------  -----  \n",
      " 0   lat     float64\n",
      " 1   lon     float64\n",
      " 2   date    object \n",
      " 3   temp    float64\n",
      " 4   prec    float64\n",
      " 5   sph     float64\n",
      " 6   sp      float64\n",
      "dtypes: float64(6), object(1)\n",
      "memory usage: 102.4+ MB\n"
     ]
    }
   ],
   "source": [
    "df = pd.read_csv(datafile)\n",
    "df.info()"
   ]
  },
  {
   "cell_type": "code",
   "execution_count": 4,
   "metadata": {},
   "outputs": [
    {
     "name": "stdout",
     "output_type": "stream",
     "text": [
      "<class 'pandas.core.frame.DataFrame'>\n",
      "DatetimeIndex: 14975 entries, 1982-01-01 to 2022-12-31\n",
      "Data columns (total 6 columns):\n",
      " #   Column  Non-Null Count  Dtype  \n",
      "---  ------  --------------  -----  \n",
      " 0   lat     14975 non-null  float64\n",
      " 1   lon     14975 non-null  float64\n",
      " 2   temp    14975 non-null  float64\n",
      " 3   prec    14975 non-null  float64\n",
      " 4   sph     14975 non-null  float64\n",
      " 5   sp      14975 non-null  float64\n",
      "dtypes: float64(6)\n",
      "memory usage: 818.9 KB\n"
     ]
    },
    {
     "name": "stderr",
     "output_type": "stream",
     "text": [
      "C:\\Users\\acer\\AppData\\Local\\Temp\\ipykernel_24540\\2942389391.py:7: SettingWithCopyWarning: \n",
      "A value is trying to be set on a copy of a slice from a DataFrame.\n",
      "Try using .loc[row_indexer,col_indexer] = value instead\n",
      "\n",
      "See the caveats in the documentation: https://pandas.pydata.org/pandas-docs/stable/user_guide/indexing.html#returning-a-view-versus-a-copy\n",
      "  selected_data['date'] = pd.to_datetime(selected_data[\"date\"])\n"
     ]
    }
   ],
   "source": [
    "# Specify the latitude and longitude pair you want to select\n",
    "selected_lat = 26.75\n",
    "selected_lon = 80.25\n",
    "\n",
    "# Filter the DataFrame to select data for the specified lat and lon\n",
    "selected_data = df[(df['lat'] == selected_lat) & (df['lon'] == selected_lon)]\n",
    "selected_data['date'] = pd.to_datetime(selected_data[\"date\"])\n",
    "selected_data.set_index(\"date\", inplace=True)\n",
    "selected_data.info()"
   ]
  },
  {
   "cell_type": "code",
   "execution_count": 6,
   "metadata": {},
   "outputs": [],
   "source": [
    "\n",
    "daily_data = selected_data.resample('1D').mean()"
   ]
  },
  {
   "cell_type": "code",
   "execution_count": 8,
   "metadata": {},
   "outputs": [
    {
     "data": {
      "text/html": [
       "<div>\n",
       "<style scoped>\n",
       "    .dataframe tbody tr th:only-of-type {\n",
       "        vertical-align: middle;\n",
       "    }\n",
       "\n",
       "    .dataframe tbody tr th {\n",
       "        vertical-align: top;\n",
       "    }\n",
       "\n",
       "    .dataframe thead th {\n",
       "        text-align: right;\n",
       "    }\n",
       "</style>\n",
       "<table border=\"1\" class=\"dataframe\">\n",
       "  <thead>\n",
       "    <tr style=\"text-align: right;\">\n",
       "      <th></th>\n",
       "      <th>lat</th>\n",
       "      <th>lon</th>\n",
       "      <th>temp</th>\n",
       "      <th>prec</th>\n",
       "      <th>sph</th>\n",
       "      <th>sp</th>\n",
       "    </tr>\n",
       "  </thead>\n",
       "  <tbody>\n",
       "    <tr>\n",
       "      <th>lat</th>\n",
       "      <td>NaN</td>\n",
       "      <td>NaN</td>\n",
       "      <td>NaN</td>\n",
       "      <td>NaN</td>\n",
       "      <td>NaN</td>\n",
       "      <td>NaN</td>\n",
       "    </tr>\n",
       "    <tr>\n",
       "      <th>lon</th>\n",
       "      <td>NaN</td>\n",
       "      <td>NaN</td>\n",
       "      <td>NaN</td>\n",
       "      <td>NaN</td>\n",
       "      <td>NaN</td>\n",
       "      <td>NaN</td>\n",
       "    </tr>\n",
       "    <tr>\n",
       "      <th>temp</th>\n",
       "      <td>NaN</td>\n",
       "      <td>NaN</td>\n",
       "      <td>1.000000</td>\n",
       "      <td>0.100946</td>\n",
       "      <td>0.424110</td>\n",
       "      <td>-0.593301</td>\n",
       "    </tr>\n",
       "    <tr>\n",
       "      <th>prec</th>\n",
       "      <td>NaN</td>\n",
       "      <td>NaN</td>\n",
       "      <td>0.100946</td>\n",
       "      <td>1.000000</td>\n",
       "      <td>0.441818</td>\n",
       "      <td>-0.204365</td>\n",
       "    </tr>\n",
       "    <tr>\n",
       "      <th>sph</th>\n",
       "      <td>NaN</td>\n",
       "      <td>NaN</td>\n",
       "      <td>0.424110</td>\n",
       "      <td>0.441818</td>\n",
       "      <td>1.000000</td>\n",
       "      <td>-0.461113</td>\n",
       "    </tr>\n",
       "    <tr>\n",
       "      <th>sp</th>\n",
       "      <td>NaN</td>\n",
       "      <td>NaN</td>\n",
       "      <td>-0.593301</td>\n",
       "      <td>-0.204365</td>\n",
       "      <td>-0.461113</td>\n",
       "      <td>1.000000</td>\n",
       "    </tr>\n",
       "  </tbody>\n",
       "</table>\n",
       "</div>"
      ],
      "text/plain": [
       "      lat  lon      temp      prec       sph        sp\n",
       "lat   NaN  NaN       NaN       NaN       NaN       NaN\n",
       "lon   NaN  NaN       NaN       NaN       NaN       NaN\n",
       "temp  NaN  NaN  1.000000  0.100946  0.424110 -0.593301\n",
       "prec  NaN  NaN  0.100946  1.000000  0.441818 -0.204365\n",
       "sph   NaN  NaN  0.424110  0.441818  1.000000 -0.461113\n",
       "sp    NaN  NaN -0.593301 -0.204365 -0.461113  1.000000"
      ]
     },
     "execution_count": 8,
     "metadata": {},
     "output_type": "execute_result"
    }
   ],
   "source": [
    "correlations = daily_data.corr()\n",
    "correlations"
   ]
  },
  {
   "cell_type": "code",
   "execution_count": 14,
   "metadata": {},
   "outputs": [
    {
     "data": {
      "text/plain": [
       "array([ 1.        ,  0.98700059,  0.97052343,  0.95821788,  0.95046175,\n",
       "        0.94489924,  0.9401569 ,  0.93558191,  0.93097714,  0.92617907,\n",
       "        0.92101587,  0.91598761,  0.91100824,  0.9060406 ,  0.90079426,\n",
       "        0.89501612,  0.88903357,  0.88284537,  0.87588936,  0.86862441,\n",
       "        0.86130794,  0.85422005,  0.84676467,  0.83897906,  0.83061947,\n",
       "        0.82197024,  0.8131473 ,  0.80442318,  0.79568581,  0.78660735,\n",
       "        0.77718617,  0.76724861,  0.75653564,  0.74566594,  0.73471176,\n",
       "        0.7237127 ,  0.71267028,  0.70141075,  0.6894745 ,  0.6772658 ,\n",
       "        0.66484483,  0.65249093,  0.63975411,  0.62692148,  0.61398523,\n",
       "        0.6012331 ,  0.58825692,  0.57495564,  0.56133373,  0.54740033,\n",
       "        0.53370423,  0.52032779,  0.50700656,  0.49311139,  0.47871502,\n",
       "        0.46432891,  0.45000074,  0.43576979,  0.42148624,  0.40684639,\n",
       "        0.39195177,  0.37709384,  0.36271308,  0.3483334 ,  0.33386409,\n",
       "        0.3189868 ,  0.3039978 ,  0.28884916,  0.27354385,  0.2582359 ,\n",
       "        0.24304758,  0.22797853,  0.21319307,  0.19837396,  0.18332284,\n",
       "        0.16835567,  0.15348849,  0.13847304,  0.12342503,  0.1084698 ,\n",
       "        0.09365284,  0.07899898,  0.06447916,  0.04996467,  0.03497713,\n",
       "        0.0196967 ,  0.00464873, -0.0102112 ])"
      ]
     },
     "execution_count": 14,
     "metadata": {},
     "output_type": "execute_result"
    }
   ],
   "source": [
    "autocorrelation = stattools.acf(daily_data['temp'], nlags=87)\n",
    "autocorrelation"
   ]
  },
  {
   "cell_type": "code",
   "execution_count": 15,
   "metadata": {},
   "outputs": [
    {
     "data": {
      "text/plain": [
       "(0.01,\n",
       " date\n",
       " 1982-01-01    False\n",
       " 1982-01-02    False\n",
       " 1982-01-03    False\n",
       " 1982-01-04    False\n",
       " 1982-01-05    False\n",
       "               ...  \n",
       " 2022-12-27    False\n",
       " 2022-12-28    False\n",
       " 2022-12-29    False\n",
       " 2022-12-30    False\n",
       " 2022-12-31    False\n",
       " Freq: D, Name: temp, Length: 14975, dtype: bool)"
      ]
     },
     "execution_count": 15,
     "metadata": {},
     "output_type": "execute_result"
    }
   ],
   "source": [
    "adf_test = ADFTest(daily_data['temp'])\n",
    "adf_test.should_diff(daily_data['temp'])"
   ]
  },
  {
   "cell_type": "code",
   "execution_count": 28,
   "metadata": {},
   "outputs": [],
   "source": [
    "differenced_data = daily_data['temp'].diff(periods=7).dropna()"
   ]
  },
  {
   "cell_type": "code",
   "execution_count": 26,
   "metadata": {},
   "outputs": [
    {
     "data": {
      "text/plain": [
       "array([ 1.        ,  0.98706651, -0.1419168 ,  0.17558948,  0.127181  ,\n",
       "        0.07005452,  0.06241822,  0.04358866,  0.03203797,  0.01778778,\n",
       "        0.00434299])"
      ]
     },
     "execution_count": 26,
     "metadata": {},
     "output_type": "execute_result"
    }
   ],
   "source": [
    "pacf = stattools.pacf(daily_data['temp'], nlags=10)\n",
    "pacf"
   ]
  },
  {
   "cell_type": "code",
   "execution_count": 29,
   "metadata": {},
   "outputs": [
    {
     "name": "stdout",
     "output_type": "stream",
     "text": [
      "KPSS statistic: 0.022469968958192733\n",
      "p-value: 0.1\n",
      "Critial Values: 11\n",
      "Critial Values: {'10%': 0.347, '5%': 0.463, '2.5%': 0.574, '1%': 0.739}\n"
     ]
    },
    {
     "name": "stderr",
     "output_type": "stream",
     "text": [
      "c:\\Program Files\\Python38\\lib\\site-packages\\statsmodels\\tsa\\stattools.py:2022: InterpolationWarning: The test statistic is outside of the range of p-values available in the\n",
      "look-up table. The actual p-value is greater than the p-value returned.\n",
      "\n",
      "  warnings.warn(\n"
     ]
    }
   ],
   "source": [
    "kpss_stat, pvalue, critical_value, critical_values = stattools.kpss(differenced_data, regression=\"c\")\n",
    "print(f'KPSS statistic: {kpss_stat}')\n",
    "print(f'p-value: {pvalue}')\n",
    "print(f'Critial Values: {critical_value}')\n",
    "print(f'Critial Values: {critical_values}')"
   ]
  },
  {
   "cell_type": "code",
   "execution_count": 32,
   "metadata": {},
   "outputs": [
    {
     "name": "stdout",
     "output_type": "stream",
     "text": [
      "Performing stepwise search to minimize aic\n",
      " ARIMA(2,0,2)(0,0,0)[0] intercept   : AIC=54443.584, Time=6.37 sec\n",
      " ARIMA(0,0,0)(0,0,0)[0] intercept   : AIC=71128.235, Time=0.19 sec\n",
      " ARIMA(1,0,0)(0,0,0)[0] intercept   : AIC=55972.117, Time=0.43 sec\n",
      " ARIMA(0,0,1)(0,0,0)[0] intercept   : AIC=60663.181, Time=1.17 sec\n",
      " ARIMA(0,0,0)(0,0,0)[0]             : AIC=71126.238, Time=0.11 sec\n",
      " ARIMA(1,0,2)(0,0,0)[0] intercept   : AIC=54881.882, Time=1.98 sec\n",
      " ARIMA(2,0,1)(0,0,0)[0] intercept   : AIC=54885.399, Time=1.94 sec\n",
      " ARIMA(3,0,2)(0,0,0)[0] intercept   : AIC=inf, Time=14.28 sec\n",
      " ARIMA(2,0,3)(0,0,0)[0] intercept   : AIC=54750.348, Time=5.77 sec\n",
      " ARIMA(1,0,1)(0,0,0)[0] intercept   : AIC=54931.378, Time=1.13 sec\n",
      " ARIMA(1,0,3)(0,0,0)[0] intercept   : AIC=54883.311, Time=2.90 sec\n",
      " ARIMA(3,0,1)(0,0,0)[0] intercept   : AIC=54887.371, Time=4.14 sec\n",
      " ARIMA(3,0,3)(0,0,0)[0] intercept   : AIC=54434.518, Time=10.84 sec\n",
      " ARIMA(4,0,3)(0,0,0)[0] intercept   : AIC=inf, Time=17.94 sec\n",
      " ARIMA(3,0,4)(0,0,0)[0] intercept   : AIC=inf, Time=20.90 sec\n",
      " ARIMA(2,0,4)(0,0,0)[0] intercept   : AIC=inf, Time=18.58 sec\n",
      " ARIMA(4,0,2)(0,0,0)[0] intercept   : AIC=inf, Time=16.75 sec\n",
      " ARIMA(4,0,4)(0,0,0)[0] intercept   : AIC=inf, Time=20.14 sec\n",
      " ARIMA(3,0,3)(0,0,0)[0]             : AIC=54432.519, Time=4.57 sec\n",
      " ARIMA(2,0,3)(0,0,0)[0]             : AIC=54748.348, Time=2.50 sec\n",
      " ARIMA(3,0,2)(0,0,0)[0]             : AIC=inf, Time=6.39 sec\n",
      " ARIMA(4,0,3)(0,0,0)[0]             : AIC=inf, Time=8.57 sec\n",
      " ARIMA(3,0,4)(0,0,0)[0]             : AIC=inf, Time=12.70 sec\n",
      " ARIMA(2,0,2)(0,0,0)[0]             : AIC=54441.585, Time=2.43 sec\n",
      " ARIMA(2,0,4)(0,0,0)[0]             : AIC=inf, Time=9.99 sec\n",
      " ARIMA(4,0,2)(0,0,0)[0]             : AIC=inf, Time=7.40 sec\n",
      " ARIMA(4,0,4)(0,0,0)[0]             : AIC=inf, Time=12.11 sec\n",
      "\n",
      "Best model:  ARIMA(3,0,3)(0,0,0)[0]          \n",
      "Total fit time: 212.223 seconds\n"
     ]
    }
   ],
   "source": [
    "model  = auto_arima(differenced_data, order=(1, 1, 1), seasonal_order=(0, 1, 1, 365), max_order=5, trace=True)"
   ]
  },
  {
   "cell_type": "code",
   "execution_count": 31,
   "metadata": {},
   "outputs": [
    {
     "data": {
      "text/html": [
       "<table class=\"simpletable\">\n",
       "<caption>SARIMAX Results</caption>\n",
       "<tr>\n",
       "  <th>Dep. Variable:</th>           <td>y</td>        <th>  No. Observations:  </th>    <td>14968</td>  \n",
       "</tr>\n",
       "<tr>\n",
       "  <th>Model:</th>           <td>SARIMAX(3, 0, 3)</td> <th>  Log Likelihood     </th> <td>-27209.259</td>\n",
       "</tr>\n",
       "<tr>\n",
       "  <th>Date:</th>            <td>Tue, 05 Sep 2023</td> <th>  AIC                </th>  <td>54432.519</td>\n",
       "</tr>\n",
       "<tr>\n",
       "  <th>Time:</th>                <td>22:28:50</td>     <th>  BIC                </th>  <td>54485.815</td>\n",
       "</tr>\n",
       "<tr>\n",
       "  <th>Sample:</th>             <td>01-08-1982</td>    <th>  HQIC               </th>  <td>54450.204</td>\n",
       "</tr>\n",
       "<tr>\n",
       "  <th></th>                   <td>- 12-31-2022</td>   <th>                     </th>      <td> </td>    \n",
       "</tr>\n",
       "<tr>\n",
       "  <th>Covariance Type:</th>        <td>opg</td>       <th>                     </th>      <td> </td>    \n",
       "</tr>\n",
       "</table>\n",
       "<table class=\"simpletable\">\n",
       "<tr>\n",
       "     <td></td>       <th>coef</th>     <th>std err</th>      <th>z</th>      <th>P>|z|</th>  <th>[0.025</th>    <th>0.975]</th>  \n",
       "</tr>\n",
       "<tr>\n",
       "  <th>ar.L1</th>  <td>    0.5513</td> <td>    0.051</td> <td>   10.899</td> <td> 0.000</td> <td>    0.452</td> <td>    0.650</td>\n",
       "</tr>\n",
       "<tr>\n",
       "  <th>ar.L2</th>  <td>    0.7682</td> <td>    0.018</td> <td>   41.534</td> <td> 0.000</td> <td>    0.732</td> <td>    0.804</td>\n",
       "</tr>\n",
       "<tr>\n",
       "  <th>ar.L3</th>  <td>   -0.4772</td> <td>    0.028</td> <td>  -16.835</td> <td> 0.000</td> <td>   -0.533</td> <td>   -0.422</td>\n",
       "</tr>\n",
       "<tr>\n",
       "  <th>ma.L1</th>  <td>    0.5326</td> <td>    0.053</td> <td>   10.025</td> <td> 0.000</td> <td>    0.428</td> <td>    0.637</td>\n",
       "</tr>\n",
       "<tr>\n",
       "  <th>ma.L2</th>  <td>   -0.6046</td> <td>    0.074</td> <td>   -8.219</td> <td> 0.000</td> <td>   -0.749</td> <td>   -0.460</td>\n",
       "</tr>\n",
       "<tr>\n",
       "  <th>ma.L3</th>  <td>   -0.3531</td> <td>    0.027</td> <td>  -13.307</td> <td> 0.000</td> <td>   -0.405</td> <td>   -0.301</td>\n",
       "</tr>\n",
       "<tr>\n",
       "  <th>sigma2</th> <td>    2.2204</td> <td>    0.010</td> <td>  230.632</td> <td> 0.000</td> <td>    2.202</td> <td>    2.239</td>\n",
       "</tr>\n",
       "</table>\n",
       "<table class=\"simpletable\">\n",
       "<tr>\n",
       "  <th>Ljung-Box (L1) (Q):</th>     <td>19.97</td> <th>  Jarque-Bera (JB):  </th> <td>239217.03</td>\n",
       "</tr>\n",
       "<tr>\n",
       "  <th>Prob(Q):</th>                <td>0.00</td>  <th>  Prob(JB):          </th>   <td>0.00</td>   \n",
       "</tr>\n",
       "<tr>\n",
       "  <th>Heteroskedasticity (H):</th> <td>1.23</td>  <th>  Skew:              </th>   <td>-0.16</td>  \n",
       "</tr>\n",
       "<tr>\n",
       "  <th>Prob(H) (two-sided):</th>    <td>0.00</td>  <th>  Kurtosis:          </th>   <td>22.58</td>  \n",
       "</tr>\n",
       "</table><br/><br/>Warnings:<br/>[1] Covariance matrix calculated using the outer product of gradients (complex-step)."
      ],
      "text/plain": [
       "<class 'statsmodels.iolib.summary.Summary'>\n",
       "\"\"\"\n",
       "                               SARIMAX Results                                \n",
       "==============================================================================\n",
       "Dep. Variable:                      y   No. Observations:                14968\n",
       "Model:               SARIMAX(3, 0, 3)   Log Likelihood              -27209.259\n",
       "Date:                Tue, 05 Sep 2023   AIC                          54432.519\n",
       "Time:                        22:28:50   BIC                          54485.815\n",
       "Sample:                    01-08-1982   HQIC                         54450.204\n",
       "                         - 12-31-2022                                         \n",
       "Covariance Type:                  opg                                         \n",
       "==============================================================================\n",
       "                 coef    std err          z      P>|z|      [0.025      0.975]\n",
       "------------------------------------------------------------------------------\n",
       "ar.L1          0.5513      0.051     10.899      0.000       0.452       0.650\n",
       "ar.L2          0.7682      0.018     41.534      0.000       0.732       0.804\n",
       "ar.L3         -0.4772      0.028    -16.835      0.000      -0.533      -0.422\n",
       "ma.L1          0.5326      0.053     10.025      0.000       0.428       0.637\n",
       "ma.L2         -0.6046      0.074     -8.219      0.000      -0.749      -0.460\n",
       "ma.L3         -0.3531      0.027    -13.307      0.000      -0.405      -0.301\n",
       "sigma2         2.2204      0.010    230.632      0.000       2.202       2.239\n",
       "===================================================================================\n",
       "Ljung-Box (L1) (Q):                  19.97   Jarque-Bera (JB):            239217.03\n",
       "Prob(Q):                              0.00   Prob(JB):                         0.00\n",
       "Heteroskedasticity (H):               1.23   Skew:                            -0.16\n",
       "Prob(H) (two-sided):                  0.00   Kurtosis:                        22.58\n",
       "===================================================================================\n",
       "\n",
       "Warnings:\n",
       "[1] Covariance matrix calculated using the outer product of gradients (complex-step).\n",
       "\"\"\""
      ]
     },
     "execution_count": 31,
     "metadata": {},
     "output_type": "execute_result"
    }
   ],
   "source": [
    "model.summary()"
   ]
  },
  {
   "cell_type": "code",
   "execution_count": null,
   "metadata": {},
   "outputs": [],
   "source": [
    "\n",
    "\n",
    "final_model = SARIMAX(differenced_data, order=(3,1,3), seasonal_order=(1, 2, 0, 365)).fit()"
   ]
  },
  {
   "cell_type": "code",
   "execution_count": null,
   "metadata": {},
   "outputs": [],
   "source": [
    "prediction_from_final_model = final_model.predict(start=\"2020-12-08\", end=\"2022-12-31\")\n",
    "prediction_from_final_model = pd.DataFrame(prediction_from_final_model)"
   ]
  },
  {
   "cell_type": "code",
   "execution_count": null,
   "metadata": {},
   "outputs": [],
   "source": [
    "prediction_from_final_model.info()"
   ]
  },
  {
   "cell_type": "code",
   "execution_count": null,
   "metadata": {},
   "outputs": [],
   "source": [
    "testing_data = total_data[\"temp\"][\"2020-12-08\":]\n",
    "testing_data = pd.DataFrame(testing_data)\n",
    "testing_data.info()"
   ]
  },
  {
   "cell_type": "code",
   "execution_count": null,
   "metadata": {},
   "outputs": [],
   "source": [
    "plt.figure(figsize=(12, 6))\n",
    "plt.plot(testing_data.index, testing_data, label='Observed')\n",
    "plt.plot(prediction_from_final_model.index, prediction_from_final_model, label='Predicted')\n",
    "plt.legend(loc='upper left')\n",
    "plt.show()"
   ]
  },
  {
   "cell_type": "code",
   "execution_count": null,
   "metadata": {},
   "outputs": [],
   "source": []
  }
 ],
 "metadata": {
  "kernelspec": {
   "display_name": "Python 3",
   "language": "python",
   "name": "python3"
  },
  "language_info": {
   "codemirror_mode": {
    "name": "ipython",
    "version": 3
   },
   "file_extension": ".py",
   "mimetype": "text/x-python",
   "name": "python",
   "nbconvert_exporter": "python",
   "pygments_lexer": "ipython3",
   "version": "3.8.3"
  },
  "orig_nbformat": 4
 },
 "nbformat": 4,
 "nbformat_minor": 2
}
